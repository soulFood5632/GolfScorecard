{
 "cells": [
  {
   "cell_type": "markdown",
   "source": [
    "In the below cell we will collect the data into a list of strings."
   ],
   "metadata": {
    "collapsed": false
   }
  },
  {
   "cell_type": "code",
   "execution_count": 17,
   "metadata": {
    "collapsed": true
   },
   "outputs": [],
   "source": [
    "\n",
    "myString = \"10 2.18 20 2.40 30 2.52 40 2.60 50 2.66 60 2.70 70 2.72 80 2.75 90 2.77 100 2.92 2.80 120 2.99 2.85 140 \" \\\n",
    "           \"2.97 2.91 160 2.99 2.98 180 3.05 3.08 200 3.12 3.19 220 3.17 3.32 240 3.25 3.45 260 3.45 3.58 280 3.65 \" \\\n",
    "           \"3.69 300 3.71 3.78 320 3.79 3.84 340 3.86 3.88 360 3.92 3.95 380 3.96 4.03 400 3.99 4.11 420 4.02 4.19 \" \\\n",
    "           \"440 4.08 4.27 460 4.17 4.34 480 4.28 4.42 500 4.41 4.50 520 4.54 4.58 540 4.65 4.66 560 4.74 4.74 580 \" \\\n",
    "           \"4.79 4.82 600 4.82 4.89\"\n",
    "\n",
    "otherData = \"2.34 2.43 3.45 2.59 2.53 3.51 2.70 2.66 3.57 2.78 2.82 3.71 2.87 2.92 3.79 2.91 3.15 3.83 2.93 3.21 3.84 \" \\\n",
    "            \"2.96 3.24 3.84 2.99 3.24 3.82 3.02 3.23 3.80 3.08 3.21 3.78 3.15 3.22 3.80 3.23 3.28 3.81 3.31 3.40 3.82 \" \\\n",
    "            \"3.42 3.55 3.87 3.53 3.70 3.92 3.64 3.84 3.97 3.74 3.93 4.03 3.83 4.00 4.10 3.90 4.04 4.20 3.95 4.12 4.31 \" \\\n",
    "            \"4.02 4.26 4.44 4.11 4.41 4.56 4.21 4.55 4.66 4.30 4.69 4.75 4.40 4.83 4.84 4.49 4.97 4.94 4.58 5.11 5.03 \" \\\n",
    "            \"4.68 5.25 5.13 4.77 5.40 5.22 4.87 5.54 5.32 4.96 5.68 5.41 5.06 5.82 5.51 5.15 5.96 5.60 5.25 6.10 5.70\"\n",
    "\n",
    "mySplitString = myString.split(\" \")\n",
    "\n",
    "otherSplitString = otherData.split(\" \")\n"
   ]
  },
  {
   "cell_type": "markdown",
   "source": [
    "In the below cell we will convert this list of string of data into a list of float point values"
   ],
   "metadata": {
    "collapsed": false
   }
  },
  {
   "cell_type": "code",
   "execution_count": 18,
   "outputs": [],
   "source": [
    "valueList1 = list()\n",
    "valueList2 = list()\n",
    "\n",
    "for strVal in mySplitString:\n",
    "    valueList1.append(float(strVal))\n",
    "\n",
    "\n",
    "for strVal in otherSplitString:\n",
    "    valueList2.append(float(strVal))\n",
    "\n",
    "\n"
   ],
   "metadata": {
    "collapsed": false
   }
  },
  {
   "cell_type": "markdown",
   "source": [
    "In the next cell we will collect the data to become a training database"
   ],
   "metadata": {
    "collapsed": false
   }
  },
  {
   "cell_type": "code",
   "execution_count": 19,
   "outputs": [
    {
     "name": "stdout",
     "output_type": "stream",
     "text": [
      "{100.0: 2.92, 120.0: 2.99, 140.0: 2.97, 160.0: 2.99, 180.0: 3.05, 200.0: 3.12, 220.0: 3.17, 240.0: 3.25, 260.0: 3.45, 280.0: 3.65, 300.0: 3.71, 320.0: 3.79, 340.0: 3.86, 360.0: 3.92, 380.0: 3.96, 400.0: 3.99, 420.0: 4.02, 440.0: 4.08, 460.0: 4.17, 480.0: 4.28, 500.0: 4.41, 520.0: 4.54, 540.0: 4.65, 560.0: 4.74, 580.0: 4.79, 600.0: 4.82}\n",
      "{10.0: 2.18, 20.0: 2.4, 30.0: 2.52, 40.0: 2.6, 50.0: 2.66, 60.0: 2.7, 70.0: 2.72, 80.0: 2.75, 90.0: 2.77, 100.0: 2.8, 120.0: 2.85, 140.0: 2.91, 160.0: 2.98, 180.0: 3.08, 200.0: 3.19, 220.0: 3.32, 240.0: 3.45, 260.0: 3.58, 280.0: 3.69, 300.0: 3.78, 320.0: 3.84, 340.0: 3.88, 360.0: 3.95, 380.0: 4.03, 400.0: 4.11, 420.0: 4.19, 440.0: 4.27, 460.0: 4.34, 480.0: 4.42, 500.0: 4.5, 520.0: 4.58, 540.0: 4.66, 560.0: 4.74, 580.0: 4.82, 600.0: 4.89}\n",
      "{10.0: 3.45, 20.0: 3.51, 30.0: 3.57, 40.0: 3.71, 50.0: 3.79, 60.0: 3.83, 70.0: 3.84, 80.0: 3.84, 90.0: 3.82, 100.0: 3.8, 120.0: 3.78, 140.0: 3.8, 160.0: 3.81, 180.0: 3.82, 200.0: 3.87, 220.0: 3.92, 240.0: 3.97, 260.0: 4.03, 280.0: 4.1, 300.0: 4.2, 320.0: 4.31, 340.0: 4.44, 360.0: 4.56, 380.0: 4.66, 400.0: 4.75, 420.0: 4.84, 440.0: 4.94, 460.0: 5.03, 480.0: 5.13, 500.0: 5.22, 520.0: 5.32, 540.0: 5.41, 560.0: 5.51, 580.0: 5.6, 600.0: 5.7}\n"
     ]
    }
   ],
   "source": [
    "teeData = dict()\n",
    "fairwayData = dict()\n",
    "roughData = dict()\n",
    "sandData = dict()\n",
    "recoveryData = dict()\n",
    "\n",
    "string1 = 0\n",
    "string2 = 0\n",
    "while string2 < otherSplitString.__len__():\n",
    "    yardage = valueList1[string1]\n",
    "    string1 += 1\n",
    "    if yardage >= 100:\n",
    "        teeData[yardage] = valueList1[string1]\n",
    "        string1 += 1\n",
    "\n",
    "    fairwayData[yardage] = valueList1[string1]\n",
    "    string1 += 1\n",
    "\n",
    "    roughData[yardage] = valueList2[string2]\n",
    "    string2 += 1\n",
    "\n",
    "    sandData[yardage] = valueList2[string2]\n",
    "    string2 += 1\n",
    "\n",
    "    roughData[yardage] = valueList2[string2]\n",
    "    string2 += 1\n",
    "\n"
   ],
   "metadata": {
    "collapsed": false
   }
  },
  {
   "cell_type": "markdown",
   "source": [
    "In the below cell we will plot this data"
   ],
   "metadata": {
    "collapsed": false
   }
  },
  {
   "cell_type": "code",
   "execution_count": null,
   "outputs": [],
   "source": [],
   "metadata": {
    "collapsed": false
   }
  }
 ],
 "metadata": {
  "kernelspec": {
   "display_name": "Python 3",
   "language": "python",
   "name": "python3"
  },
  "language_info": {
   "codemirror_mode": {
    "name": "ipython",
    "version": 2
   },
   "file_extension": ".py",
   "mimetype": "text/x-python",
   "name": "python",
   "nbconvert_exporter": "python",
   "pygments_lexer": "ipython2",
   "version": "2.7.6"
  }
 },
 "nbformat": 4,
 "nbformat_minor": 0
}
